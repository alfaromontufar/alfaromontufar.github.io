{
 "cells": [
  {
   "cell_type": "code",
   "execution_count": 9,
   "id": "d98818f3",
   "metadata": {},
   "outputs": [
    {
     "data": {
      "image/png": "[encoded data removed]",
      "text/plain": [
       "Graphics object consisting of 1 graphics primitive"
      ]
     },
     "execution_count": 9,
     "metadata": {},
     "output_type": "execute_result"
    }
   ],
   "source": [
    "# MIP for computing recurrent configurations\n",
    "def MIP(g,sink,conf):\n",
    "    p = MixedIntegerLinearProgram(maximization=True,solver='GLPK')\n",
    "    b = p.new_variable(integer=True)\n",
    "    m = g.laplacian_matrix().delete_columns([sink]).delete_rows([sink])\n",
    "    sigma = [v - 1 - c for (v,c) in zip(g.degree(),conf)]\n",
    "    del sigma[sink]\n",
    "    lhs = [-c for c in conf]\n",
    "    del lhs[sink]\n",
    "    p.set_objective(sum([b[i] for i in range(len(sigma)) ]))\n",
    "    p.add_constraint(m*b, min=lhs, max=sigma)\n",
    "    p.solve()\n",
    "    sol = vector(p.get_values(b).values())\n",
    "    return [int(u-v) for (u,v) in zip(m*sol,lhs)]\n",
    "\n",
    "def identity_grid(n):\n",
    "    G = graphs.Grid2dGraph(n,n)\n",
    "    G = G.relabel(lambda i: n*i[0]+i[1], inplace=False)\n",
    "    G.add_vertex(n*n)\n",
    "    for i in range(n):\n",
    "        G.add_edge(n*n,i)\n",
    "        G.add_edge(n*n,n*i)\n",
    "        G.add_edge(n*n,n*(n-1)+i)\n",
    "        G.add_edge(n*n,n*i+n-1)\n",
    "    sink = n*n\n",
    "    configuration = G.order()*[0] # zero vector, to compute the identity\n",
    "    return matrix(n,MIP(G,sink,configuration))\n",
    "\n",
    "matrix_plot(identity_grid(20))"
   ]
  },
  {
   "cell_type": "code",
   "execution_count": null,
   "id": "823d6a5e",
   "metadata": {},
   "outputs": [],
   "source": []
  }
 ],
 "metadata": {
  "kernelspec": {
   "display_name": "SageMath 9.5",
   "language": "sage",
   "name": "sagemath-9.5"
  },
  "language_info": {
   "codemirror_mode": {
    "name": "ipython",
    "version": 3
   },
   "file_extension": ".py",
   "mimetype": "text/x-python",
   "name": "python",
   "nbconvert_exporter": "python",
   "pygments_lexer": "ipython3",
   "version": "3.9.9"
  }
 },
 "nbformat": 4,
 "nbformat_minor": 5
}
